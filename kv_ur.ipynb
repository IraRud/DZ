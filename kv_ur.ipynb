{
 "cells": [
  {
   "cell_type": "code",
   "execution_count": 1,
   "id": "5700cae3",
   "metadata": {},
   "outputs": [],
   "source": [
    "from math import sqrt\n",
    "import cmath"
   ]
  },
  {
   "cell_type": "code",
   "execution_count": null,
   "id": "263a11c2",
   "metadata": {},
   "outputs": [],
   "source": [
    "a = float(input(\"a = \"))\n",
    "b = float(input(\"b = \"))\n",
    "c = float(input(\"c = \"))\n",
    "\n",
    "print (str(a) + \"x^2 + \" + str(b) + \"x + \" + str(c) + \" = 0\")\n",
    "\n",
    "d = b**2 - 4*a*c\n",
    "\n",
    "if d > 0:\n",
    "    x1 = (-b-sqrt(d))/(2*a)\n",
    "    x2 = (-b+sqrt(d))/(2*a)\n",
    "    print(\"x1 = \" + str(round(x1, 3)) + \"\\nx2 = \" + str(round(x2, 3)))\n",
    "elif d == 0:\n",
    "    x1 = (-b)/(2*a)\n",
    "    print(\"x1 = \" + str(round(x1, 3)))\n",
    "elif d < 0:\n",
    "    x1 = (-b-cmath.sqrt(d))/(2*a)\n",
    "    x2 = (-b+cmath.sqrt(d))/(2*a)\n",
    "    print(\"x1 = \" + \"{0.real:.3f}{0.imag:+.3f}j\".format(x1) + \"\\nx2 = \" + \"{0.real:.3f}{0.imag:+.3f}j\".format(x2))\n"
   ]
  }
 ],
 "metadata": {
  "kernelspec": {
   "display_name": "Python 3",
   "language": "python",
   "name": "python3"
  },
  "language_info": {
   "codemirror_mode": {
    "name": "ipython",
    "version": 3
   },
   "file_extension": ".py",
   "mimetype": "text/x-python",
   "name": "python",
   "nbconvert_exporter": "python",
   "pygments_lexer": "ipython3",
   "version": "3.8.8"
  }
 },
 "nbformat": 4,
 "nbformat_minor": 5
}
